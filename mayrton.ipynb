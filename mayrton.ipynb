{
 "cells": [
  {
   "cell_type": "code",
   "execution_count": null,
   "metadata": {},
   "outputs": [],
   "source": [
    "import random\n",
    "import copy\n",
    "\n",
    "class individuo:\n",
    "    def __init__(self, tam):\n",
    "        self.ind = []\n",
    "        self.tam = tam\n",
    "        for i in range(0, tam):\n",
    "            self.ind.append(0)\n",
    "        valor = int(random.random() * tam)\n",
    "        self.ind[valor] = 1\n",
    "        self.avaliacao = 0\n",
    "\n",
    "    def avaliar(self):\n",
    "        peso = 0\n",
    "        preco = 0\n",
    "        for i in range(0, self.tam):\n",
    "            if self.ind[i] == 1:       \n",
    "                peso += pesos[i]\n",
    "                preco += precos[i]\n",
    "        if peso < capacidade:\n",
    "            self.avaliacao = preco\n",
    "        else:\n",
    "            self.avaliacao = 0\n",
    "        return self.avaliacao\n",
    "    \n",
    "    def mostrar(self):\n",
    "        print(f'Mostre agora o {self.ind} que foi avaliado em {self.avaliacao}')\n",
    "\n",
    "    def getAvaliacao(self):\n",
    "        return self.avaliacao\n",
    "    \n",
    "\n",
    "    def getIndividuo(self):\n",
    "        return self.ind\n",
    "    \n",
    "    def setIndividuo(self, ind):\n",
    "        self.ind = ind\n",
    "\n",
    "                "
   ]
  },
  {
   "cell_type": "code",
   "execution_count": null,
   "metadata": {},
   "outputs": [],
   "source": [
    "def metodoRoleta(avaliacao):\n",
    "        posicao = int(random.random() * avaliacao)\n",
    "        count = 0\n",
    "        for i in range(tamPopulacao):\n",
    "                count += populacao[i].getAvaliacao()\n",
    "                if posicao <= count:\n",
    "                        return i"
   ]
  },
  {
   "cell_type": "code",
   "execution_count": null,
   "metadata": {},
   "outputs": [],
   "source": [
    "def crossoverUmPonto(pai1, pai2):\n",
    "    corte = int(random.random() * 8) + 1\n",
    "    cromossomo1 = populacao[pai1].getIndividuo()\n",
    "    cromossomo2 = populacao[pai2].getIndividuo()\n",
    "\n",
    "    filho = cromossomo1[:corte] + cromossomo2[:corte]\n",
    "    return filho    "
   ]
  }
 ],
 "metadata": {
  "kernelspec": {
   "display_name": "Python 3",
   "language": "python",
   "name": "python3"
  },
  "language_info": {
   "codemirror_mode": {
    "name": "ipython",
    "version": 3
   },
   "file_extension": ".py",
   "mimetype": "text/x-python",
   "name": "python",
   "nbconvert_exporter": "python",
   "pygments_lexer": "ipython3",
   "version": "3.12.6"
  }
 },
 "nbformat": 4,
 "nbformat_minor": 2
}
